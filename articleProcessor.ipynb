{
 "cells": [
  {
   "cell_type": "code",
   "execution_count": 3,
   "metadata": {},
   "outputs": [],
   "source": [
    "import re\n",
    "import nltk\n",
    "import ssl\n",
    "\n",
    "try:\n",
    "    _create_unverified_https_context = ssl._create_unverified_context\n",
    "except AttributeError:\n",
    "    pass\n",
    "else:\n",
    "    ssl._create_default_https_context = _create_unverified_https_context\n",
    "\n",
    "# nltk.download() # download corpora"
   ]
  },
  {
   "cell_type": "code",
   "execution_count": 9,
   "metadata": {},
   "outputs": [
    {
     "data": {
      "text/plain": [
       "'LONDON, England (Reuters) -- Harry Potter star Daniel Radcliffe gains access to a reported £20 million ($41.1 million) fortune as he turns 18 on Monday, but he insists the money won\\'t cast a spell on him. Daniel Radcliffe as Harry Potter in \"Harry Potter and the Order of the Phoenix\" To the disappointment of gossip columnists around the world, the young actor says he has no plans to fritter his cash away on fast cars, drink and celebrity parties. \"I don\\'t plan to be one of those people who, as soon as they turn 18, suddenly buy themselves a massive sports car collection or something similar,\" he told an Australian interviewer earlier this month. \"I don\\'t think I\\'ll be particularly extravagant. \"The things I like buying are things that cost about 10 pounds -- books and CDs and DVDs.\" At 18, Radcliffe will be able to gamble in a casino, buy a drink in a pub or see the horror film \"Hostel: Part II,\" currently six places below his number one movie on the UK box office chart. Details of how he\\'ll mark his landmark birthday are under wraps. His agent and publicist had no comment on his plans. \"I\\'ll definitely have some sort of party,\" he said in an interview. \"Hopefully none of you will be reading about it.\" Radcliffe\\'s earnings from the first five Potter films have been held in a trust fund which he has not been able to touch. Despite his growing fame and riches, the actor says he is keeping his feet firmly on the ground. \"People are always looking to say \\'kid star goes off the rails,\\'\" he told reporters last month. \"But I try very hard not to go that way because it would be too easy for them.\" His latest outing as the boy wizard in \"Harry Potter and the Order of the Phoenix\" is breaking records on both sides of the Atlantic and he will reprise the role in the last two films. Watch I-Reporter give her review of Potter\\'s latest » . There is life beyond Potter, however. The Londoner has filmed a TV movie called \"My Boy Jack,\" about author Rudyard Kipling and his son, due for release later this year. He will also appear in \"December Boys,\" an Australian film about four boys who escape an orphanage. Earlier this year, he made his stage debut playing a tortured teenager in Peter Shaffer\\'s \"Equus.\" Meanwhile, he is braced for even closer media scrutiny now that he\\'s legally an adult: \"I just think I\\'m going to be more sort of fair game,\" he told Reuters. E-mail to a friend . Copyright 2007 Reuters. All rights reserved.This material may not be published, broadcast, rewritten, or redistributed.'"
      ]
     },
     "execution_count": 9,
     "metadata": {},
     "output_type": "execute_result"
    }
   ],
   "source": [
    "article = \"\"\"LONDON, England (Reuters) -- Harry Potter star Daniel Radcliffe gains access to a reported £20 million ($41.1 million) fortune as he turns 18 on Monday, but he insists the money won't cast a spell on him. Daniel Radcliffe as Harry Potter in \"Harry Potter and the Order of the Phoenix\" To the disappointment of gossip columnists around the world, the young actor says he has no plans to fritter his cash away on fast cars, drink and celebrity parties. \"I don't plan to be one of those people who, as soon as they turn 18, suddenly buy themselves a massive sports car collection or something similar,\" he told an Australian interviewer earlier this month. \"I don't think I'll be particularly extravagant. \"The things I like buying are things that cost about 10 pounds -- books and CDs and DVDs.\" At 18, Radcliffe will be able to gamble in a casino, buy a drink in a pub or see the horror film \"Hostel: Part II,\" currently six places below his number one movie on the UK box office chart. Details of how he'll mark his landmark birthday are under wraps. His agent and publicist had no comment on his plans. \"I'll definitely have some sort of party,\" he said in an interview. \"Hopefully none of you will be reading about it.\" Radcliffe's earnings from the first five Potter films have been held in a trust fund which he has not been able to touch. Despite his growing fame and riches, the actor says he is keeping his feet firmly on the ground. \"People are always looking to say 'kid star goes off the rails,'\" he told reporters last month. \"But I try very hard not to go that way because it would be too easy for them.\" His latest outing as the boy wizard in \"Harry Potter and the Order of the Phoenix\" is breaking records on both sides of the Atlantic and he will reprise the role in the last two films. Watch I-Reporter give her review of Potter's latest » . There is life beyond Potter, however. The Londoner has filmed a TV movie called \"My Boy Jack,\" about author Rudyard Kipling and his son, due for release later this year. He will also appear in \"December Boys,\" an Australian film about four boys who escape an orphanage. Earlier this year, he made his stage debut playing a tortured teenager in Peter Shaffer's \"Equus.\" Meanwhile, he is braced for even closer media scrutiny now that he's legally an adult: \"I just think I'm going to be more sort of fair game,\" he told Reuters. E-mail to a friend . Copyright 2007 Reuters. All rights reserved.This material may not be published, broadcast, rewritten, or redistributed.\"\"\"\n",
    "article"
   ]
  },
  {
   "cell_type": "code",
   "execution_count": 7,
   "metadata": {},
   "outputs": [],
   "source": [
    "def convertShortForms(article):\n",
    "    article = article.replace(\"won't\", \"will not\")\n",
    "    article = article.replace(\"can't\", \"cannot\")\n",
    "    article = article.replace(\"i'm\", \"i am\")\n",
    "    article = article.replace(\"ain't\", \"is not\")\n",
    "    article = article.replace(\"(\\w+)'ll\", \"\\g<1> will\")\n",
    "    article = article.replace(\"(\\w+)'ve\", \"\\g<1> have\")\n",
    "    article = article.replace(\"(\\w+)'re\", \"\\g<1> are\")\n",
    "    article = article.replace(\"(\\w+)'d\", \"\\g<1> would\")\n",
    "    return article\n",
    "\n",
    "def convertAbbreviations(article):\n",
    "    article = article.replace(\"U.S.\", \"United States\")\n",
    "    article = article.replace(\"U.K.\", \"United Kingdom\")\n",
    "    article = article.replace(\"etc.\", \"and so on\")\n",
    "    article = article.replace(\"e.g.\", \"for example\")\n",
    "    article = article.replace(\"i.e.\", \"more precisely\")\n",
    "    return article\n",
    "\n",
    "def convertNumbers(article):\n",
    "    article = re.sub(r'(\\d+) million', r'\\g<1>000000', article)\n",
    "    article = re.sub(r'(\\d+) billion', r'\\g<1>000000000', article)\n",
    "    article = re.sub(r'(\\d+) trillion', r'\\g<1>000000000000', article)\n",
    "    return article\n",
    "\n",
    "def convertDates(article):\n",
    "    article = re.sub(r'(\\d+)/(\\d+)/(\\d+)', r'\\g<3>-\\g<1>-\\g<2>', article)\n",
    "    article = re.sub(r'(\\d+)-(\\d+)-(\\d+)', r'\\g<3>-\\g<1>-\\g<2>', article)\n",
    "    return article\n",
    "\n",
    "def convertMoney(article):\n",
    "    article = re.sub(r'\\$(\\d+)', r'\\g<1> dollars', article)\n",
    "    return article\n",
    "\n",
    "def removeStopWords(article):\n",
    "    article = article.split()\n",
    "    stopWords = set(nltk.corpus.stopwords.words('english'))\n",
    "    article = [word for word in article if word not in stopWords]\n",
    "    article = ' '.join(article)\n",
    "    return article\n",
    "\n",
    "def stemWords(article):\n",
    "    stemmer = nltk.stem.PorterStemmer()\n",
    "    article = article.split()\n",
    "    article = [stemmer.stem(word) for word in article]\n",
    "    article = ' '.join(article)\n",
    "    return article\n",
    "\n",
    "def lemmatizeWords(article):\n",
    "    lemmatizer = nltk.stem.WordNetLemmatizer()\n",
    "    article = article.split()\n",
    "    article = [lemmatizer.lemmatize(word) for word in article]\n",
    "    article = ' '.join(article)\n",
    "    return article\n",
    "\n",
    "def removePunctuation(article):\n",
    "    article = re.sub(r'[^\\w\\s]', '', article)\n",
    "    return article\n",
    "\n",
    "def processArticle(article):\n",
    "    article = article.lower()\n",
    "    article = convertShortForms(article)\n",
    "    article = convertAbbreviations(article)\n",
    "    article = convertNumbers(article)\n",
    "    article = convertDates(article)\n",
    "    article = convertMoney(article)\n",
    "    article = removePunctuation(article)\n",
    "    article = removeStopWords(article)\n",
    "    article = stemWords(article)\n",
    "    article = lemmatizeWords(article)\n",
    "    return article\n"
   ]
  },
  {
   "cell_type": "code",
   "execution_count": 8,
   "metadata": {},
   "outputs": [
    {
     "data": {
      "text/plain": [
       "'london england reuter harri potter star daniel radcliff gain access report 20000000 41 dollars1000000 fortun turn 18 monday insist money cast spell daniel radcliff harri potter harri potter order phoenix disappoint gossip columnist around world young actor say plan fritter cash away fast car drink celebr parti dont plan one peopl soon turn 18 suddenli buy massiv sport car collect someth similar told australian interview earlier month dont think ill particularli extravag thing like buy thing cost 10 pound book cd dvd 18 radcliff abl gambl casino buy drink pub see horror film hostel part ii current six place number one movi uk box offic chart detail hell mark landmark birthday wrap agent publicist comment plan ill definit sort parti said interview hope none read radcliff earn first five potter film held trust fund abl touch despit grow fame rich actor say keep foot firmli ground peopl alway look say kid star goe rail told report last month tri hard go way would easi latest outing boy wizard harri potter order phoenix break record side atlant repris role last two film watch ireport give review potter latest life beyond potter howev london film tv movi call boy jack author rudyard kipl son due releas later year also appear decemb boy australian film four boy escap orphanag earlier year made stage debut play tortur teenag peter shaffer equu meanwhil brace even closer medium scrutini he legal adult think go sort fair game told reuter email friend copyright 2007 reuter right reservedthi materi may publish broadcast rewritten redistribut'"
      ]
     },
     "execution_count": 8,
     "metadata": {},
     "output_type": "execute_result"
    }
   ],
   "source": [
    "processArticle(article)"
   ]
  },
  {
   "cell_type": "code",
   "execution_count": 1,
   "metadata": {},
   "outputs": [
    {
     "name": "stdout",
     "output_type": "stream",
     "text": [
      "showing info https://raw.githubusercontent.com/nltk/nltk_data/gh-pages/index.xml\n"
     ]
    },
    {
     "data": {
      "text/plain": [
       "True"
      ]
     },
     "execution_count": 1,
     "metadata": {},
     "output_type": "execute_result"
    }
   ],
   "source": []
  }
 ],
 "metadata": {
  "kernelspec": {
   "display_name": "Python 3.10.5 64-bit",
   "language": "python",
   "name": "python3"
  },
  "language_info": {
   "codemirror_mode": {
    "name": "ipython",
    "version": 3
   },
   "file_extension": ".py",
   "mimetype": "text/x-python",
   "name": "python",
   "nbconvert_exporter": "python",
   "pygments_lexer": "ipython3",
   "version": "3.10.5"
  },
  "orig_nbformat": 4,
  "vscode": {
   "interpreter": {
    "hash": "aee8b7b246df8f9039afb4144a1f6fd8d2ca17a180786b69acc140d282b71a49"
   }
  }
 },
 "nbformat": 4,
 "nbformat_minor": 2
}
